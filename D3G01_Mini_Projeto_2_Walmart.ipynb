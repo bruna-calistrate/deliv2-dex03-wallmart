{
  "nbformat": 4,
  "nbformat_minor": 0,
  "metadata": {
    "colab": {
      "name": "D3G01 - Mini Projeto 2 - Walmart.ipynb",
      "provenance": [],
      "toc_visible": true,
      "include_colab_link": true
    },
    "kernelspec": {
      "name": "python3",
      "display_name": "Python 3"
    },
    "language_info": {
      "name": "python"
    }
  },
  "cells": [
    {
      "cell_type": "markdown",
      "metadata": {
        "id": "view-in-github",
        "colab_type": "text"
      },
      "source": [
        "<a href=\"https://colab.research.google.com/github/bruna-calistrate/deliv2-dex03-wallmart/blob/main/D3G01_Mini_Projeto_2_Walmart.ipynb\" target=\"_parent\"><img src=\"https://colab.research.google.com/assets/colab-badge.svg\" alt=\"Open In Colab\"/></a>"
      ]
    },
    {
      "cell_type": "markdown",
      "source": [
        "# Mini Projeto - Walmart\n",
        "\n",
        "## DEx 3 Grupo 01: André Alves, Bruna Calistrate, Filipe Oliveira, Gabriel Shinzato, Mário Vasconcelos, Maurício Jornada Bastos, Paulo Vitor de Souza Santos"
      ],
      "metadata": {
        "id": "bug0FHaEAf6l"
      }
    },
    {
      "cell_type": "markdown",
      "source": [
        "## Entendimento do negócio\n",
        "\n",
        "**Walmart, Inc.**, é uma multinacional estadunidense de lojas de departamento. \n",
        "\n",
        "A companhia foi fundada por Sam Walton em 1962, incorporada em 31 de outubro de 1969 e feita capital aberto na New York Stock Exchange, em 1972. No ano de 2021, obteve um lucro de US$ 13.51 bilhões.\n",
        "\n",
        "Sendo **uma das principais lojas de varejo do mundo**, o os dados contemplam as vendas semanais de 45 lojas espalhadas pelos Estados Unidos. O Walmart realiza **vários eventos promocionais de descontos ao longo do ano**. Essas remarcações precedem feriados importantes, os quatro maiores de todos, que são: Super Bowl, Dia do Trabalho, Dia de Ação de Graças e Natal.\n",
        "\n",
        "As semanas que incluem esses feriados têm um peso maior.\n",
        "\n",
        "### Questão de negócio\n",
        "\n",
        "**Qual seria a melhor loja para expandir o seu tamanho?**\n",
        "\n",
        "#### Meta\n",
        "\n",
        "Determinar a melhor loja para investir na expansão.\n",
        "\n",
        "#### Como\n",
        "\n",
        "A partir de métricas encontradas nos dados fornecidos de vendas semanais das 45 lojas entre 05/02/2010 até 01/11/2012."
      ],
      "metadata": {
        "id": "0BS6LzQzBGVL"
      }
    },
    {
      "cell_type": "markdown",
      "source": [
        "## Entendimento dos dados\n",
        "\n",
        "### Carregamento de bibliotecas\n",
        "\n",
        "Bibliotexas importantes para auxiliar no processamento e visualização dos dados."
      ],
      "metadata": {
        "id": "Do_wuwAVE24t"
      }
    },
    {
      "cell_type": "code",
      "execution_count": 1,
      "metadata": {
        "id": "9gZjmjKdKTFj"
      },
      "outputs": [],
      "source": [
        "import pandas as pd\n",
        "import numpy as np\n",
        "import seaborn as sns\n",
        "import matplotlib.pyplot as plt\n",
        "import matplotlib.patches as mpatches\n",
        "from datetime import date"
      ]
    },
    {
      "cell_type": "markdown",
      "source": [
        "### Importação dos dados\n",
        "\n",
        "Para determinar a melhor loja para investimento, foi utilizado o banco de dados com as vendas semanais das 45 lojas entre fevereiro de 2010 e novembro de 2012."
      ],
      "metadata": {
        "id": "G-YcOjGzFFX8"
      }
    },
    {
      "cell_type": "code",
      "source": [
        "df_wm = pd.read_csv('https://raw.githubusercontent.com/bruna-calistrate/deliv2-dex03-wallmart/main/Walmart.csv')"
      ],
      "metadata": {
        "id": "7t53q5tQKabK"
      },
      "execution_count": 2,
      "outputs": []
    },
    {
      "cell_type": "code",
      "source": [
        "pd.set_option('float_format', '{:.2f}'.format)"
      ],
      "metadata": {
        "id": "0bZnAeNmLEI0"
      },
      "execution_count": 11,
      "outputs": []
    },
    {
      "cell_type": "markdown",
      "source": [
        "### Análise exploratória dos dados\n",
        "\n",
        "Conferir o tamanho da base de dados, descrever os valores numéricos, verificar se existem valores nulos e visualizar os dados."
      ],
      "metadata": {
        "id": "wKC_zghiFXEo"
      }
    },
    {
      "cell_type": "code",
      "source": [
        "df_wm.shape"
      ],
      "metadata": {
        "colab": {
          "base_uri": "https://localhost:8080/"
        },
        "id": "rGHg-m80FlHn",
        "outputId": "e2213f08-2a33-4a7a-b82a-351d8a0886a6"
      },
      "execution_count": 12,
      "outputs": [
        {
          "output_type": "execute_result",
          "data": {
            "text/plain": [
              "(6435, 8)"
            ]
          },
          "metadata": {},
          "execution_count": 12
        }
      ]
    },
    {
      "cell_type": "code",
      "source": [
        "df_wm.describe()"
      ],
      "metadata": {
        "colab": {
          "base_uri": "https://localhost:8080/",
          "height": 300
        },
        "id": "w3bWCtGmKxBu",
        "outputId": "53f10e5f-204d-4541-fc64-6826f8e88c6e"
      },
      "execution_count": 13,
      "outputs": [
        {
          "output_type": "execute_result",
          "data": {
            "text/html": [
              "\n",
              "  <div id=\"df-62bf764c-b1a2-4165-b9fd-ea61983b82ea\">\n",
              "    <div class=\"colab-df-container\">\n",
              "      <div>\n",
              "<style scoped>\n",
              "    .dataframe tbody tr th:only-of-type {\n",
              "        vertical-align: middle;\n",
              "    }\n",
              "\n",
              "    .dataframe tbody tr th {\n",
              "        vertical-align: top;\n",
              "    }\n",
              "\n",
              "    .dataframe thead th {\n",
              "        text-align: right;\n",
              "    }\n",
              "</style>\n",
              "<table border=\"1\" class=\"dataframe\">\n",
              "  <thead>\n",
              "    <tr style=\"text-align: right;\">\n",
              "      <th></th>\n",
              "      <th>Store</th>\n",
              "      <th>Weekly_Sales</th>\n",
              "      <th>Holiday_Flag</th>\n",
              "      <th>Temperature</th>\n",
              "      <th>Fuel_Price</th>\n",
              "      <th>CPI</th>\n",
              "      <th>Unemployment</th>\n",
              "    </tr>\n",
              "  </thead>\n",
              "  <tbody>\n",
              "    <tr>\n",
              "      <th>count</th>\n",
              "      <td>6435.00</td>\n",
              "      <td>6435.00</td>\n",
              "      <td>6435.00</td>\n",
              "      <td>6435.00</td>\n",
              "      <td>6435.00</td>\n",
              "      <td>6435.00</td>\n",
              "      <td>6435.00</td>\n",
              "    </tr>\n",
              "    <tr>\n",
              "      <th>mean</th>\n",
              "      <td>23.00</td>\n",
              "      <td>1046964.88</td>\n",
              "      <td>0.07</td>\n",
              "      <td>60.66</td>\n",
              "      <td>3.36</td>\n",
              "      <td>171.58</td>\n",
              "      <td>8.00</td>\n",
              "    </tr>\n",
              "    <tr>\n",
              "      <th>std</th>\n",
              "      <td>12.99</td>\n",
              "      <td>564366.62</td>\n",
              "      <td>0.26</td>\n",
              "      <td>18.44</td>\n",
              "      <td>0.46</td>\n",
              "      <td>39.36</td>\n",
              "      <td>1.88</td>\n",
              "    </tr>\n",
              "    <tr>\n",
              "      <th>min</th>\n",
              "      <td>1.00</td>\n",
              "      <td>209986.25</td>\n",
              "      <td>0.00</td>\n",
              "      <td>-2.06</td>\n",
              "      <td>2.47</td>\n",
              "      <td>126.06</td>\n",
              "      <td>3.88</td>\n",
              "    </tr>\n",
              "    <tr>\n",
              "      <th>25%</th>\n",
              "      <td>12.00</td>\n",
              "      <td>553350.10</td>\n",
              "      <td>0.00</td>\n",
              "      <td>47.46</td>\n",
              "      <td>2.93</td>\n",
              "      <td>131.74</td>\n",
              "      <td>6.89</td>\n",
              "    </tr>\n",
              "    <tr>\n",
              "      <th>50%</th>\n",
              "      <td>23.00</td>\n",
              "      <td>960746.04</td>\n",
              "      <td>0.00</td>\n",
              "      <td>62.67</td>\n",
              "      <td>3.44</td>\n",
              "      <td>182.62</td>\n",
              "      <td>7.87</td>\n",
              "    </tr>\n",
              "    <tr>\n",
              "      <th>75%</th>\n",
              "      <td>34.00</td>\n",
              "      <td>1420158.66</td>\n",
              "      <td>0.00</td>\n",
              "      <td>74.94</td>\n",
              "      <td>3.73</td>\n",
              "      <td>212.74</td>\n",
              "      <td>8.62</td>\n",
              "    </tr>\n",
              "    <tr>\n",
              "      <th>max</th>\n",
              "      <td>45.00</td>\n",
              "      <td>3818686.45</td>\n",
              "      <td>1.00</td>\n",
              "      <td>100.14</td>\n",
              "      <td>4.47</td>\n",
              "      <td>227.23</td>\n",
              "      <td>14.31</td>\n",
              "    </tr>\n",
              "  </tbody>\n",
              "</table>\n",
              "</div>\n",
              "      <button class=\"colab-df-convert\" onclick=\"convertToInteractive('df-62bf764c-b1a2-4165-b9fd-ea61983b82ea')\"\n",
              "              title=\"Convert this dataframe to an interactive table.\"\n",
              "              style=\"display:none;\">\n",
              "        \n",
              "  <svg xmlns=\"http://www.w3.org/2000/svg\" height=\"24px\"viewBox=\"0 0 24 24\"\n",
              "       width=\"24px\">\n",
              "    <path d=\"M0 0h24v24H0V0z\" fill=\"none\"/>\n",
              "    <path d=\"M18.56 5.44l.94 2.06.94-2.06 2.06-.94-2.06-.94-.94-2.06-.94 2.06-2.06.94zm-11 1L8.5 8.5l.94-2.06 2.06-.94-2.06-.94L8.5 2.5l-.94 2.06-2.06.94zm10 10l.94 2.06.94-2.06 2.06-.94-2.06-.94-.94-2.06-.94 2.06-2.06.94z\"/><path d=\"M17.41 7.96l-1.37-1.37c-.4-.4-.92-.59-1.43-.59-.52 0-1.04.2-1.43.59L10.3 9.45l-7.72 7.72c-.78.78-.78 2.05 0 2.83L4 21.41c.39.39.9.59 1.41.59.51 0 1.02-.2 1.41-.59l7.78-7.78 2.81-2.81c.8-.78.8-2.07 0-2.86zM5.41 20L4 18.59l7.72-7.72 1.47 1.35L5.41 20z\"/>\n",
              "  </svg>\n",
              "      </button>\n",
              "      \n",
              "  <style>\n",
              "    .colab-df-container {\n",
              "      display:flex;\n",
              "      flex-wrap:wrap;\n",
              "      gap: 12px;\n",
              "    }\n",
              "\n",
              "    .colab-df-convert {\n",
              "      background-color: #E8F0FE;\n",
              "      border: none;\n",
              "      border-radius: 50%;\n",
              "      cursor: pointer;\n",
              "      display: none;\n",
              "      fill: #1967D2;\n",
              "      height: 32px;\n",
              "      padding: 0 0 0 0;\n",
              "      width: 32px;\n",
              "    }\n",
              "\n",
              "    .colab-df-convert:hover {\n",
              "      background-color: #E2EBFA;\n",
              "      box-shadow: 0px 1px 2px rgba(60, 64, 67, 0.3), 0px 1px 3px 1px rgba(60, 64, 67, 0.15);\n",
              "      fill: #174EA6;\n",
              "    }\n",
              "\n",
              "    [theme=dark] .colab-df-convert {\n",
              "      background-color: #3B4455;\n",
              "      fill: #D2E3FC;\n",
              "    }\n",
              "\n",
              "    [theme=dark] .colab-df-convert:hover {\n",
              "      background-color: #434B5C;\n",
              "      box-shadow: 0px 1px 3px 1px rgba(0, 0, 0, 0.15);\n",
              "      filter: drop-shadow(0px 1px 2px rgba(0, 0, 0, 0.3));\n",
              "      fill: #FFFFFF;\n",
              "    }\n",
              "  </style>\n",
              "\n",
              "      <script>\n",
              "        const buttonEl =\n",
              "          document.querySelector('#df-62bf764c-b1a2-4165-b9fd-ea61983b82ea button.colab-df-convert');\n",
              "        buttonEl.style.display =\n",
              "          google.colab.kernel.accessAllowed ? 'block' : 'none';\n",
              "\n",
              "        async function convertToInteractive(key) {\n",
              "          const element = document.querySelector('#df-62bf764c-b1a2-4165-b9fd-ea61983b82ea');\n",
              "          const dataTable =\n",
              "            await google.colab.kernel.invokeFunction('convertToInteractive',\n",
              "                                                     [key], {});\n",
              "          if (!dataTable) return;\n",
              "\n",
              "          const docLinkHtml = 'Like what you see? Visit the ' +\n",
              "            '<a target=\"_blank\" href=https://colab.research.google.com/notebooks/data_table.ipynb>data table notebook</a>'\n",
              "            + ' to learn more about interactive tables.';\n",
              "          element.innerHTML = '';\n",
              "          dataTable['output_type'] = 'display_data';\n",
              "          await google.colab.output.renderOutput(dataTable, element);\n",
              "          const docLink = document.createElement('div');\n",
              "          docLink.innerHTML = docLinkHtml;\n",
              "          element.appendChild(docLink);\n",
              "        }\n",
              "      </script>\n",
              "    </div>\n",
              "  </div>\n",
              "  "
            ],
            "text/plain": [
              "        Store  Weekly_Sales  Holiday_Flag  Temperature  Fuel_Price     CPI  \\\n",
              "count 6435.00       6435.00       6435.00      6435.00     6435.00 6435.00   \n",
              "mean    23.00    1046964.88          0.07        60.66        3.36  171.58   \n",
              "std     12.99     564366.62          0.26        18.44        0.46   39.36   \n",
              "min      1.00     209986.25          0.00        -2.06        2.47  126.06   \n",
              "25%     12.00     553350.10          0.00        47.46        2.93  131.74   \n",
              "50%     23.00     960746.04          0.00        62.67        3.44  182.62   \n",
              "75%     34.00    1420158.66          0.00        74.94        3.73  212.74   \n",
              "max     45.00    3818686.45          1.00       100.14        4.47  227.23   \n",
              "\n",
              "       Unemployment  \n",
              "count       6435.00  \n",
              "mean           8.00  \n",
              "std            1.88  \n",
              "min            3.88  \n",
              "25%            6.89  \n",
              "50%            7.87  \n",
              "75%            8.62  \n",
              "max           14.31  "
            ]
          },
          "metadata": {},
          "execution_count": 13
        }
      ]
    },
    {
      "cell_type": "code",
      "source": [
        "df_wm.isnull().sum()"
      ],
      "metadata": {
        "colab": {
          "base_uri": "https://localhost:8080/"
        },
        "id": "G4F6N2JuKzgg",
        "outputId": "7b5525ab-6089-40df-b99e-b9d11ea339aa"
      },
      "execution_count": 14,
      "outputs": [
        {
          "output_type": "execute_result",
          "data": {
            "text/plain": [
              "Store           0\n",
              "Date            0\n",
              "Weekly_Sales    0\n",
              "Holiday_Flag    0\n",
              "Temperature     0\n",
              "Fuel_Price      0\n",
              "CPI             0\n",
              "Unemployment    0\n",
              "dtype: int64"
            ]
          },
          "metadata": {},
          "execution_count": 14
        }
      ]
    },
    {
      "cell_type": "code",
      "source": [
        "df_wm.head()"
      ],
      "metadata": {
        "colab": {
          "base_uri": "https://localhost:8080/",
          "height": 206
        },
        "id": "ZTpPmYqyKt29",
        "outputId": "7543c6cd-2116-4e50-9b00-82b4bce4a0cd"
      },
      "execution_count": 15,
      "outputs": [
        {
          "output_type": "execute_result",
          "data": {
            "text/html": [
              "\n",
              "  <div id=\"df-b34252b2-3109-4fb8-8318-87b608a2701d\">\n",
              "    <div class=\"colab-df-container\">\n",
              "      <div>\n",
              "<style scoped>\n",
              "    .dataframe tbody tr th:only-of-type {\n",
              "        vertical-align: middle;\n",
              "    }\n",
              "\n",
              "    .dataframe tbody tr th {\n",
              "        vertical-align: top;\n",
              "    }\n",
              "\n",
              "    .dataframe thead th {\n",
              "        text-align: right;\n",
              "    }\n",
              "</style>\n",
              "<table border=\"1\" class=\"dataframe\">\n",
              "  <thead>\n",
              "    <tr style=\"text-align: right;\">\n",
              "      <th></th>\n",
              "      <th>Store</th>\n",
              "      <th>Date</th>\n",
              "      <th>Weekly_Sales</th>\n",
              "      <th>Holiday_Flag</th>\n",
              "      <th>Temperature</th>\n",
              "      <th>Fuel_Price</th>\n",
              "      <th>CPI</th>\n",
              "      <th>Unemployment</th>\n",
              "    </tr>\n",
              "  </thead>\n",
              "  <tbody>\n",
              "    <tr>\n",
              "      <th>0</th>\n",
              "      <td>1</td>\n",
              "      <td>05-02-2010</td>\n",
              "      <td>1643690.90</td>\n",
              "      <td>0</td>\n",
              "      <td>42.31</td>\n",
              "      <td>2.57</td>\n",
              "      <td>211.10</td>\n",
              "      <td>8.11</td>\n",
              "    </tr>\n",
              "    <tr>\n",
              "      <th>1</th>\n",
              "      <td>1</td>\n",
              "      <td>12-02-2010</td>\n",
              "      <td>1641957.44</td>\n",
              "      <td>1</td>\n",
              "      <td>38.51</td>\n",
              "      <td>2.55</td>\n",
              "      <td>211.24</td>\n",
              "      <td>8.11</td>\n",
              "    </tr>\n",
              "    <tr>\n",
              "      <th>2</th>\n",
              "      <td>1</td>\n",
              "      <td>19-02-2010</td>\n",
              "      <td>1611968.17</td>\n",
              "      <td>0</td>\n",
              "      <td>39.93</td>\n",
              "      <td>2.51</td>\n",
              "      <td>211.29</td>\n",
              "      <td>8.11</td>\n",
              "    </tr>\n",
              "    <tr>\n",
              "      <th>3</th>\n",
              "      <td>1</td>\n",
              "      <td>26-02-2010</td>\n",
              "      <td>1409727.59</td>\n",
              "      <td>0</td>\n",
              "      <td>46.63</td>\n",
              "      <td>2.56</td>\n",
              "      <td>211.32</td>\n",
              "      <td>8.11</td>\n",
              "    </tr>\n",
              "    <tr>\n",
              "      <th>4</th>\n",
              "      <td>1</td>\n",
              "      <td>05-03-2010</td>\n",
              "      <td>1554806.68</td>\n",
              "      <td>0</td>\n",
              "      <td>46.50</td>\n",
              "      <td>2.62</td>\n",
              "      <td>211.35</td>\n",
              "      <td>8.11</td>\n",
              "    </tr>\n",
              "  </tbody>\n",
              "</table>\n",
              "</div>\n",
              "      <button class=\"colab-df-convert\" onclick=\"convertToInteractive('df-b34252b2-3109-4fb8-8318-87b608a2701d')\"\n",
              "              title=\"Convert this dataframe to an interactive table.\"\n",
              "              style=\"display:none;\">\n",
              "        \n",
              "  <svg xmlns=\"http://www.w3.org/2000/svg\" height=\"24px\"viewBox=\"0 0 24 24\"\n",
              "       width=\"24px\">\n",
              "    <path d=\"M0 0h24v24H0V0z\" fill=\"none\"/>\n",
              "    <path d=\"M18.56 5.44l.94 2.06.94-2.06 2.06-.94-2.06-.94-.94-2.06-.94 2.06-2.06.94zm-11 1L8.5 8.5l.94-2.06 2.06-.94-2.06-.94L8.5 2.5l-.94 2.06-2.06.94zm10 10l.94 2.06.94-2.06 2.06-.94-2.06-.94-.94-2.06-.94 2.06-2.06.94z\"/><path d=\"M17.41 7.96l-1.37-1.37c-.4-.4-.92-.59-1.43-.59-.52 0-1.04.2-1.43.59L10.3 9.45l-7.72 7.72c-.78.78-.78 2.05 0 2.83L4 21.41c.39.39.9.59 1.41.59.51 0 1.02-.2 1.41-.59l7.78-7.78 2.81-2.81c.8-.78.8-2.07 0-2.86zM5.41 20L4 18.59l7.72-7.72 1.47 1.35L5.41 20z\"/>\n",
              "  </svg>\n",
              "      </button>\n",
              "      \n",
              "  <style>\n",
              "    .colab-df-container {\n",
              "      display:flex;\n",
              "      flex-wrap:wrap;\n",
              "      gap: 12px;\n",
              "    }\n",
              "\n",
              "    .colab-df-convert {\n",
              "      background-color: #E8F0FE;\n",
              "      border: none;\n",
              "      border-radius: 50%;\n",
              "      cursor: pointer;\n",
              "      display: none;\n",
              "      fill: #1967D2;\n",
              "      height: 32px;\n",
              "      padding: 0 0 0 0;\n",
              "      width: 32px;\n",
              "    }\n",
              "\n",
              "    .colab-df-convert:hover {\n",
              "      background-color: #E2EBFA;\n",
              "      box-shadow: 0px 1px 2px rgba(60, 64, 67, 0.3), 0px 1px 3px 1px rgba(60, 64, 67, 0.15);\n",
              "      fill: #174EA6;\n",
              "    }\n",
              "\n",
              "    [theme=dark] .colab-df-convert {\n",
              "      background-color: #3B4455;\n",
              "      fill: #D2E3FC;\n",
              "    }\n",
              "\n",
              "    [theme=dark] .colab-df-convert:hover {\n",
              "      background-color: #434B5C;\n",
              "      box-shadow: 0px 1px 3px 1px rgba(0, 0, 0, 0.15);\n",
              "      filter: drop-shadow(0px 1px 2px rgba(0, 0, 0, 0.3));\n",
              "      fill: #FFFFFF;\n",
              "    }\n",
              "  </style>\n",
              "\n",
              "      <script>\n",
              "        const buttonEl =\n",
              "          document.querySelector('#df-b34252b2-3109-4fb8-8318-87b608a2701d button.colab-df-convert');\n",
              "        buttonEl.style.display =\n",
              "          google.colab.kernel.accessAllowed ? 'block' : 'none';\n",
              "\n",
              "        async function convertToInteractive(key) {\n",
              "          const element = document.querySelector('#df-b34252b2-3109-4fb8-8318-87b608a2701d');\n",
              "          const dataTable =\n",
              "            await google.colab.kernel.invokeFunction('convertToInteractive',\n",
              "                                                     [key], {});\n",
              "          if (!dataTable) return;\n",
              "\n",
              "          const docLinkHtml = 'Like what you see? Visit the ' +\n",
              "            '<a target=\"_blank\" href=https://colab.research.google.com/notebooks/data_table.ipynb>data table notebook</a>'\n",
              "            + ' to learn more about interactive tables.';\n",
              "          element.innerHTML = '';\n",
              "          dataTable['output_type'] = 'display_data';\n",
              "          await google.colab.output.renderOutput(dataTable, element);\n",
              "          const docLink = document.createElement('div');\n",
              "          docLink.innerHTML = docLinkHtml;\n",
              "          element.appendChild(docLink);\n",
              "        }\n",
              "      </script>\n",
              "    </div>\n",
              "  </div>\n",
              "  "
            ],
            "text/plain": [
              "   Store        Date  Weekly_Sales  Holiday_Flag  Temperature  Fuel_Price  \\\n",
              "0      1  05-02-2010    1643690.90             0        42.31        2.57   \n",
              "1      1  12-02-2010    1641957.44             1        38.51        2.55   \n",
              "2      1  19-02-2010    1611968.17             0        39.93        2.51   \n",
              "3      1  26-02-2010    1409727.59             0        46.63        2.56   \n",
              "4      1  05-03-2010    1554806.68             0        46.50        2.62   \n",
              "\n",
              "     CPI  Unemployment  \n",
              "0 211.10          8.11  \n",
              "1 211.24          8.11  \n",
              "2 211.29          8.11  \n",
              "3 211.32          8.11  \n",
              "4 211.35          8.11  "
            ]
          },
          "metadata": {},
          "execution_count": 15
        }
      ]
    },
    {
      "cell_type": "code",
      "source": [
        "df_wm.tail()"
      ],
      "metadata": {
        "colab": {
          "base_uri": "https://localhost:8080/",
          "height": 206
        },
        "id": "F8g-0CLnGQ7j",
        "outputId": "9981e9c2-56b4-4f74-9a24-674f7f854457"
      },
      "execution_count": 16,
      "outputs": [
        {
          "output_type": "execute_result",
          "data": {
            "text/html": [
              "\n",
              "  <div id=\"df-a3cbdbba-765c-445a-98ef-464f98aaacf2\">\n",
              "    <div class=\"colab-df-container\">\n",
              "      <div>\n",
              "<style scoped>\n",
              "    .dataframe tbody tr th:only-of-type {\n",
              "        vertical-align: middle;\n",
              "    }\n",
              "\n",
              "    .dataframe tbody tr th {\n",
              "        vertical-align: top;\n",
              "    }\n",
              "\n",
              "    .dataframe thead th {\n",
              "        text-align: right;\n",
              "    }\n",
              "</style>\n",
              "<table border=\"1\" class=\"dataframe\">\n",
              "  <thead>\n",
              "    <tr style=\"text-align: right;\">\n",
              "      <th></th>\n",
              "      <th>Store</th>\n",
              "      <th>Date</th>\n",
              "      <th>Weekly_Sales</th>\n",
              "      <th>Holiday_Flag</th>\n",
              "      <th>Temperature</th>\n",
              "      <th>Fuel_Price</th>\n",
              "      <th>CPI</th>\n",
              "      <th>Unemployment</th>\n",
              "    </tr>\n",
              "  </thead>\n",
              "  <tbody>\n",
              "    <tr>\n",
              "      <th>6430</th>\n",
              "      <td>45</td>\n",
              "      <td>28-09-2012</td>\n",
              "      <td>713173.95</td>\n",
              "      <td>0</td>\n",
              "      <td>64.88</td>\n",
              "      <td>4.00</td>\n",
              "      <td>192.01</td>\n",
              "      <td>8.68</td>\n",
              "    </tr>\n",
              "    <tr>\n",
              "      <th>6431</th>\n",
              "      <td>45</td>\n",
              "      <td>05-10-2012</td>\n",
              "      <td>733455.07</td>\n",
              "      <td>0</td>\n",
              "      <td>64.89</td>\n",
              "      <td>3.98</td>\n",
              "      <td>192.17</td>\n",
              "      <td>8.67</td>\n",
              "    </tr>\n",
              "    <tr>\n",
              "      <th>6432</th>\n",
              "      <td>45</td>\n",
              "      <td>12-10-2012</td>\n",
              "      <td>734464.36</td>\n",
              "      <td>0</td>\n",
              "      <td>54.47</td>\n",
              "      <td>4.00</td>\n",
              "      <td>192.33</td>\n",
              "      <td>8.67</td>\n",
              "    </tr>\n",
              "    <tr>\n",
              "      <th>6433</th>\n",
              "      <td>45</td>\n",
              "      <td>19-10-2012</td>\n",
              "      <td>718125.53</td>\n",
              "      <td>0</td>\n",
              "      <td>56.47</td>\n",
              "      <td>3.97</td>\n",
              "      <td>192.33</td>\n",
              "      <td>8.67</td>\n",
              "    </tr>\n",
              "    <tr>\n",
              "      <th>6434</th>\n",
              "      <td>45</td>\n",
              "      <td>26-10-2012</td>\n",
              "      <td>760281.43</td>\n",
              "      <td>0</td>\n",
              "      <td>58.85</td>\n",
              "      <td>3.88</td>\n",
              "      <td>192.31</td>\n",
              "      <td>8.67</td>\n",
              "    </tr>\n",
              "  </tbody>\n",
              "</table>\n",
              "</div>\n",
              "      <button class=\"colab-df-convert\" onclick=\"convertToInteractive('df-a3cbdbba-765c-445a-98ef-464f98aaacf2')\"\n",
              "              title=\"Convert this dataframe to an interactive table.\"\n",
              "              style=\"display:none;\">\n",
              "        \n",
              "  <svg xmlns=\"http://www.w3.org/2000/svg\" height=\"24px\"viewBox=\"0 0 24 24\"\n",
              "       width=\"24px\">\n",
              "    <path d=\"M0 0h24v24H0V0z\" fill=\"none\"/>\n",
              "    <path d=\"M18.56 5.44l.94 2.06.94-2.06 2.06-.94-2.06-.94-.94-2.06-.94 2.06-2.06.94zm-11 1L8.5 8.5l.94-2.06 2.06-.94-2.06-.94L8.5 2.5l-.94 2.06-2.06.94zm10 10l.94 2.06.94-2.06 2.06-.94-2.06-.94-.94-2.06-.94 2.06-2.06.94z\"/><path d=\"M17.41 7.96l-1.37-1.37c-.4-.4-.92-.59-1.43-.59-.52 0-1.04.2-1.43.59L10.3 9.45l-7.72 7.72c-.78.78-.78 2.05 0 2.83L4 21.41c.39.39.9.59 1.41.59.51 0 1.02-.2 1.41-.59l7.78-7.78 2.81-2.81c.8-.78.8-2.07 0-2.86zM5.41 20L4 18.59l7.72-7.72 1.47 1.35L5.41 20z\"/>\n",
              "  </svg>\n",
              "      </button>\n",
              "      \n",
              "  <style>\n",
              "    .colab-df-container {\n",
              "      display:flex;\n",
              "      flex-wrap:wrap;\n",
              "      gap: 12px;\n",
              "    }\n",
              "\n",
              "    .colab-df-convert {\n",
              "      background-color: #E8F0FE;\n",
              "      border: none;\n",
              "      border-radius: 50%;\n",
              "      cursor: pointer;\n",
              "      display: none;\n",
              "      fill: #1967D2;\n",
              "      height: 32px;\n",
              "      padding: 0 0 0 0;\n",
              "      width: 32px;\n",
              "    }\n",
              "\n",
              "    .colab-df-convert:hover {\n",
              "      background-color: #E2EBFA;\n",
              "      box-shadow: 0px 1px 2px rgba(60, 64, 67, 0.3), 0px 1px 3px 1px rgba(60, 64, 67, 0.15);\n",
              "      fill: #174EA6;\n",
              "    }\n",
              "\n",
              "    [theme=dark] .colab-df-convert {\n",
              "      background-color: #3B4455;\n",
              "      fill: #D2E3FC;\n",
              "    }\n",
              "\n",
              "    [theme=dark] .colab-df-convert:hover {\n",
              "      background-color: #434B5C;\n",
              "      box-shadow: 0px 1px 3px 1px rgba(0, 0, 0, 0.15);\n",
              "      filter: drop-shadow(0px 1px 2px rgba(0, 0, 0, 0.3));\n",
              "      fill: #FFFFFF;\n",
              "    }\n",
              "  </style>\n",
              "\n",
              "      <script>\n",
              "        const buttonEl =\n",
              "          document.querySelector('#df-a3cbdbba-765c-445a-98ef-464f98aaacf2 button.colab-df-convert');\n",
              "        buttonEl.style.display =\n",
              "          google.colab.kernel.accessAllowed ? 'block' : 'none';\n",
              "\n",
              "        async function convertToInteractive(key) {\n",
              "          const element = document.querySelector('#df-a3cbdbba-765c-445a-98ef-464f98aaacf2');\n",
              "          const dataTable =\n",
              "            await google.colab.kernel.invokeFunction('convertToInteractive',\n",
              "                                                     [key], {});\n",
              "          if (!dataTable) return;\n",
              "\n",
              "          const docLinkHtml = 'Like what you see? Visit the ' +\n",
              "            '<a target=\"_blank\" href=https://colab.research.google.com/notebooks/data_table.ipynb>data table notebook</a>'\n",
              "            + ' to learn more about interactive tables.';\n",
              "          element.innerHTML = '';\n",
              "          dataTable['output_type'] = 'display_data';\n",
              "          await google.colab.output.renderOutput(dataTable, element);\n",
              "          const docLink = document.createElement('div');\n",
              "          docLink.innerHTML = docLinkHtml;\n",
              "          element.appendChild(docLink);\n",
              "        }\n",
              "      </script>\n",
              "    </div>\n",
              "  </div>\n",
              "  "
            ],
            "text/plain": [
              "      Store        Date  Weekly_Sales  Holiday_Flag  Temperature  Fuel_Price  \\\n",
              "6430     45  28-09-2012     713173.95             0        64.88        4.00   \n",
              "6431     45  05-10-2012     733455.07             0        64.89        3.98   \n",
              "6432     45  12-10-2012     734464.36             0        54.47        4.00   \n",
              "6433     45  19-10-2012     718125.53             0        56.47        3.97   \n",
              "6434     45  26-10-2012     760281.43             0        58.85        3.88   \n",
              "\n",
              "        CPI  Unemployment  \n",
              "6430 192.01          8.68  \n",
              "6431 192.17          8.67  \n",
              "6432 192.33          8.67  \n",
              "6433 192.33          8.67  \n",
              "6434 192.31          8.67  "
            ]
          },
          "metadata": {},
          "execution_count": 16
        }
      ]
    },
    {
      "cell_type": "code",
      "source": [
        "df_wm.dtypes"
      ],
      "metadata": {
        "colab": {
          "base_uri": "https://localhost:8080/"
        },
        "id": "RYGSJzbpGVx9",
        "outputId": "6f73150e-b59c-4c00-b243-0a4dbf2948cd"
      },
      "execution_count": 17,
      "outputs": [
        {
          "output_type": "execute_result",
          "data": {
            "text/plain": [
              "Store             int64\n",
              "Date             object\n",
              "Weekly_Sales    float64\n",
              "Holiday_Flag      int64\n",
              "Temperature     float64\n",
              "Fuel_Price      float64\n",
              "CPI             float64\n",
              "Unemployment    float64\n",
              "dtype: object"
            ]
          },
          "metadata": {},
          "execution_count": 17
        }
      ]
    },
    {
      "cell_type": "markdown",
      "source": [
        "A partir da análise inicial dos dados, é possível verificar que existem 6435 registros de vendas semanais descritos em 8 colunas e não existem valores nulos. Analisando os valores, podemos concluir:\n",
        "\n",
        "\n",
        "*   A média global de vendas semanais é de USD 1,047 milhões, sendo o valor mínimo US$ 210 mil e o máximo USD 3,819 milhões.\n",
        "*   A média do preço de combustível foi de USD 3,36, variando entre USD 2,47 e USD 4,47.\n",
        "* A taxa de desemprego média no período é de 8,00%, variando entre 3,88% e 14,31%.\n",
        "* A coluna com as datas está como objeto e deverá ser corrigida.\n",
        "* A coluna de temperatura está em °F e deverá ser convertida para °C.\n",
        "\n"
      ],
      "metadata": {
        "id": "Y3B__rFpGify"
      }
    },
    {
      "cell_type": "markdown",
      "source": [
        "### Tratamento inicial dos dados\n",
        "\n",
        "Traduzir as colunas para melhor entendimento dos dados."
      ],
      "metadata": {
        "id": "p1XIpjV5J_V_"
      }
    },
    {
      "cell_type": "code",
      "source": [
        "df_wm.rename(columns={'Store': 'Loja', 'Date': 'Data', 'Weekly_Sales': 'VendaSemanal', \n",
        "                      'Holiday_Flag': 'Feriado', 'Temperature': 'Temperatura', \n",
        "                      'Fuel_Price' : 'PrecoComb', 'CPI': 'IPC', 'Unemployment':'Desemprego'}, inplace=True)"
      ],
      "metadata": {
        "id": "UdXqbZc4K1cR"
      },
      "execution_count": 18,
      "outputs": []
    },
    {
      "cell_type": "markdown",
      "source": [
        "Converter a coluna de Data para o formato datetime e convertendo graus Fahrenheit para grais Celcius"
      ],
      "metadata": {
        "id": "OnEdX7iOKZy6"
      }
    },
    {
      "cell_type": "code",
      "source": [
        "df_wm['Data'] = pd.to_datetime(df_wm['Data'], dayfirst=True)"
      ],
      "metadata": {
        "id": "ZWvMDNG-K36Q"
      },
      "execution_count": 19,
      "outputs": []
    },
    {
      "cell_type": "code",
      "source": [
        "df_wm['Temperatura'] = df_wm.apply(lambda x: (x['Temperatura']-32)*5/9,axis=1)"
      ],
      "metadata": {
        "id": "8ZJ6VlRbK-Ky"
      },
      "execution_count": 21,
      "outputs": []
    },
    {
      "cell_type": "code",
      "source": [
        "df_wm.dtypes"
      ],
      "metadata": {
        "colab": {
          "base_uri": "https://localhost:8080/"
        },
        "id": "0t3ZrITGK6ia",
        "outputId": "6d474e7e-2fa7-4568-a52a-6d8caf75b715"
      },
      "execution_count": 20,
      "outputs": [
        {
          "output_type": "execute_result",
          "data": {
            "text/plain": [
              "Loja                     int64\n",
              "Data            datetime64[ns]\n",
              "VendaSemanal           float64\n",
              "Feriado                  int64\n",
              "Temperatura            float64\n",
              "PrecoComb              float64\n",
              "IPC                    float64\n",
              "Desemprego             float64\n",
              "dtype: object"
            ]
          },
          "metadata": {},
          "execution_count": 20
        }
      ]
    },
    {
      "cell_type": "markdown",
      "source": [
        "Criar uma nova coluna descrevendo qual o feriado da semana"
      ],
      "metadata": {
        "id": "SXUC7scWMxAt"
      }
    },
    {
      "cell_type": "code",
      "source": [
        "df_wm.loc[df_wm['Data'] == '2010-02-12', 'Evento'] = 'Super Bowl'\n",
        "df_wm.loc[df_wm['Data'] == '2011-02-11', 'Evento'] = 'Super Bowl'\n",
        "df_wm.loc[df_wm['Data'] == '2012-02-10', 'Evento'] = 'Super Bowl'\n",
        "df_wm.loc[df_wm['Data'] == '2010-12-31', 'Evento'] = 'Natal'\n",
        "df_wm.loc[df_wm['Data'] == '2011-12-30', 'Evento'] = 'Natal'\n",
        "df_wm.loc[df_wm['Data'] == '2012-12-28', 'Evento'] = 'Natal'\n",
        "df_wm.loc[df_wm['Data'] == '2010-11-26', 'Evento'] = 'Ação de Graças'\n",
        "df_wm.loc[df_wm['Data'] == '2011-11-25', 'Evento'] = 'Ação de Graças'\n",
        "df_wm.loc[df_wm['Data'] == '2012-11-23', 'Evento'] = 'Ação de Graças'\n",
        "df_wm.loc[df_wm['Data'] == '2010-09-10', 'Evento'] = 'Dia do Trabalho'\n",
        "df_wm.loc[df_wm['Data'] == '2011-09-09', 'Evento'] = 'Dia do Trabalho'\n",
        "df_wm.loc[df_wm['Data'] == '2012-09-07', 'Evento'] = 'Dia do Trabalho'"
      ],
      "metadata": {
        "id": "5-RoTE-EK_k4"
      },
      "execution_count": 28,
      "outputs": []
    },
    {
      "cell_type": "code",
      "source": [
        "df_wm.describe()"
      ],
      "metadata": {
        "colab": {
          "base_uri": "https://localhost:8080/",
          "height": 300
        },
        "id": "B6L29iOxLN0V",
        "outputId": "cb106224-9bc7-43cf-ba05-4bf1d098a0b6"
      },
      "execution_count": 29,
      "outputs": [
        {
          "output_type": "execute_result",
          "data": {
            "text/html": [
              "\n",
              "  <div id=\"df-660b158e-e782-4f2b-8345-33a8f6e3734b\">\n",
              "    <div class=\"colab-df-container\">\n",
              "      <div>\n",
              "<style scoped>\n",
              "    .dataframe tbody tr th:only-of-type {\n",
              "        vertical-align: middle;\n",
              "    }\n",
              "\n",
              "    .dataframe tbody tr th {\n",
              "        vertical-align: top;\n",
              "    }\n",
              "\n",
              "    .dataframe thead th {\n",
              "        text-align: right;\n",
              "    }\n",
              "</style>\n",
              "<table border=\"1\" class=\"dataframe\">\n",
              "  <thead>\n",
              "    <tr style=\"text-align: right;\">\n",
              "      <th></th>\n",
              "      <th>Loja</th>\n",
              "      <th>VendaSemanal</th>\n",
              "      <th>Feriado</th>\n",
              "      <th>Temperatura</th>\n",
              "      <th>PrecoComb</th>\n",
              "      <th>IPC</th>\n",
              "      <th>Desemprego</th>\n",
              "    </tr>\n",
              "  </thead>\n",
              "  <tbody>\n",
              "    <tr>\n",
              "      <th>count</th>\n",
              "      <td>6435.00</td>\n",
              "      <td>6435.00</td>\n",
              "      <td>6435.00</td>\n",
              "      <td>6435.00</td>\n",
              "      <td>6435.00</td>\n",
              "      <td>6435.00</td>\n",
              "      <td>6435.00</td>\n",
              "    </tr>\n",
              "    <tr>\n",
              "      <th>mean</th>\n",
              "      <td>23.00</td>\n",
              "      <td>1046964.88</td>\n",
              "      <td>0.07</td>\n",
              "      <td>15.92</td>\n",
              "      <td>3.36</td>\n",
              "      <td>171.58</td>\n",
              "      <td>8.00</td>\n",
              "    </tr>\n",
              "    <tr>\n",
              "      <th>std</th>\n",
              "      <td>12.99</td>\n",
              "      <td>564366.62</td>\n",
              "      <td>0.26</td>\n",
              "      <td>10.25</td>\n",
              "      <td>0.46</td>\n",
              "      <td>39.36</td>\n",
              "      <td>1.88</td>\n",
              "    </tr>\n",
              "    <tr>\n",
              "      <th>min</th>\n",
              "      <td>1.00</td>\n",
              "      <td>209986.25</td>\n",
              "      <td>0.00</td>\n",
              "      <td>-18.92</td>\n",
              "      <td>2.47</td>\n",
              "      <td>126.06</td>\n",
              "      <td>3.88</td>\n",
              "    </tr>\n",
              "    <tr>\n",
              "      <th>25%</th>\n",
              "      <td>12.00</td>\n",
              "      <td>553350.10</td>\n",
              "      <td>0.00</td>\n",
              "      <td>8.59</td>\n",
              "      <td>2.93</td>\n",
              "      <td>131.74</td>\n",
              "      <td>6.89</td>\n",
              "    </tr>\n",
              "    <tr>\n",
              "      <th>50%</th>\n",
              "      <td>23.00</td>\n",
              "      <td>960746.04</td>\n",
              "      <td>0.00</td>\n",
              "      <td>17.04</td>\n",
              "      <td>3.44</td>\n",
              "      <td>182.62</td>\n",
              "      <td>7.87</td>\n",
              "    </tr>\n",
              "    <tr>\n",
              "      <th>75%</th>\n",
              "      <td>34.00</td>\n",
              "      <td>1420158.66</td>\n",
              "      <td>0.00</td>\n",
              "      <td>23.86</td>\n",
              "      <td>3.73</td>\n",
              "      <td>212.74</td>\n",
              "      <td>8.62</td>\n",
              "    </tr>\n",
              "    <tr>\n",
              "      <th>max</th>\n",
              "      <td>45.00</td>\n",
              "      <td>3818686.45</td>\n",
              "      <td>1.00</td>\n",
              "      <td>37.86</td>\n",
              "      <td>4.47</td>\n",
              "      <td>227.23</td>\n",
              "      <td>14.31</td>\n",
              "    </tr>\n",
              "  </tbody>\n",
              "</table>\n",
              "</div>\n",
              "      <button class=\"colab-df-convert\" onclick=\"convertToInteractive('df-660b158e-e782-4f2b-8345-33a8f6e3734b')\"\n",
              "              title=\"Convert this dataframe to an interactive table.\"\n",
              "              style=\"display:none;\">\n",
              "        \n",
              "  <svg xmlns=\"http://www.w3.org/2000/svg\" height=\"24px\"viewBox=\"0 0 24 24\"\n",
              "       width=\"24px\">\n",
              "    <path d=\"M0 0h24v24H0V0z\" fill=\"none\"/>\n",
              "    <path d=\"M18.56 5.44l.94 2.06.94-2.06 2.06-.94-2.06-.94-.94-2.06-.94 2.06-2.06.94zm-11 1L8.5 8.5l.94-2.06 2.06-.94-2.06-.94L8.5 2.5l-.94 2.06-2.06.94zm10 10l.94 2.06.94-2.06 2.06-.94-2.06-.94-.94-2.06-.94 2.06-2.06.94z\"/><path d=\"M17.41 7.96l-1.37-1.37c-.4-.4-.92-.59-1.43-.59-.52 0-1.04.2-1.43.59L10.3 9.45l-7.72 7.72c-.78.78-.78 2.05 0 2.83L4 21.41c.39.39.9.59 1.41.59.51 0 1.02-.2 1.41-.59l7.78-7.78 2.81-2.81c.8-.78.8-2.07 0-2.86zM5.41 20L4 18.59l7.72-7.72 1.47 1.35L5.41 20z\"/>\n",
              "  </svg>\n",
              "      </button>\n",
              "      \n",
              "  <style>\n",
              "    .colab-df-container {\n",
              "      display:flex;\n",
              "      flex-wrap:wrap;\n",
              "      gap: 12px;\n",
              "    }\n",
              "\n",
              "    .colab-df-convert {\n",
              "      background-color: #E8F0FE;\n",
              "      border: none;\n",
              "      border-radius: 50%;\n",
              "      cursor: pointer;\n",
              "      display: none;\n",
              "      fill: #1967D2;\n",
              "      height: 32px;\n",
              "      padding: 0 0 0 0;\n",
              "      width: 32px;\n",
              "    }\n",
              "\n",
              "    .colab-df-convert:hover {\n",
              "      background-color: #E2EBFA;\n",
              "      box-shadow: 0px 1px 2px rgba(60, 64, 67, 0.3), 0px 1px 3px 1px rgba(60, 64, 67, 0.15);\n",
              "      fill: #174EA6;\n",
              "    }\n",
              "\n",
              "    [theme=dark] .colab-df-convert {\n",
              "      background-color: #3B4455;\n",
              "      fill: #D2E3FC;\n",
              "    }\n",
              "\n",
              "    [theme=dark] .colab-df-convert:hover {\n",
              "      background-color: #434B5C;\n",
              "      box-shadow: 0px 1px 3px 1px rgba(0, 0, 0, 0.15);\n",
              "      filter: drop-shadow(0px 1px 2px rgba(0, 0, 0, 0.3));\n",
              "      fill: #FFFFFF;\n",
              "    }\n",
              "  </style>\n",
              "\n",
              "      <script>\n",
              "        const buttonEl =\n",
              "          document.querySelector('#df-660b158e-e782-4f2b-8345-33a8f6e3734b button.colab-df-convert');\n",
              "        buttonEl.style.display =\n",
              "          google.colab.kernel.accessAllowed ? 'block' : 'none';\n",
              "\n",
              "        async function convertToInteractive(key) {\n",
              "          const element = document.querySelector('#df-660b158e-e782-4f2b-8345-33a8f6e3734b');\n",
              "          const dataTable =\n",
              "            await google.colab.kernel.invokeFunction('convertToInteractive',\n",
              "                                                     [key], {});\n",
              "          if (!dataTable) return;\n",
              "\n",
              "          const docLinkHtml = 'Like what you see? Visit the ' +\n",
              "            '<a target=\"_blank\" href=https://colab.research.google.com/notebooks/data_table.ipynb>data table notebook</a>'\n",
              "            + ' to learn more about interactive tables.';\n",
              "          element.innerHTML = '';\n",
              "          dataTable['output_type'] = 'display_data';\n",
              "          await google.colab.output.renderOutput(dataTable, element);\n",
              "          const docLink = document.createElement('div');\n",
              "          docLink.innerHTML = docLinkHtml;\n",
              "          element.appendChild(docLink);\n",
              "        }\n",
              "      </script>\n",
              "    </div>\n",
              "  </div>\n",
              "  "
            ],
            "text/plain": [
              "         Loja  VendaSemanal  Feriado  Temperatura  PrecoComb     IPC  \\\n",
              "count 6435.00       6435.00  6435.00      6435.00    6435.00 6435.00   \n",
              "mean    23.00    1046964.88     0.07        15.92       3.36  171.58   \n",
              "std     12.99     564366.62     0.26        10.25       0.46   39.36   \n",
              "min      1.00     209986.25     0.00       -18.92       2.47  126.06   \n",
              "25%     12.00     553350.10     0.00         8.59       2.93  131.74   \n",
              "50%     23.00     960746.04     0.00        17.04       3.44  182.62   \n",
              "75%     34.00    1420158.66     0.00        23.86       3.73  212.74   \n",
              "max     45.00    3818686.45     1.00        37.86       4.47  227.23   \n",
              "\n",
              "       Desemprego  \n",
              "count     6435.00  \n",
              "mean         8.00  \n",
              "std          1.88  \n",
              "min          3.88  \n",
              "25%          6.89  \n",
              "50%          7.87  \n",
              "75%          8.62  \n",
              "max         14.31  "
            ]
          },
          "metadata": {},
          "execution_count": 29
        }
      ]
    },
    {
      "cell_type": "markdown",
      "source": [
        "### Visualização inicial dos dados"
      ],
      "metadata": {
        "id": "p-JjEBt2PJbM"
      }
    },
    {
      "cell_type": "markdown",
      "source": [
        "Criando dataframes para facilitar a visualização:\n",
        "\n",
        "\n",
        "* Acumulado de vendas semanais por loja\n",
        "* Média da taxa de desemprego por loja\n",
        "* Média de vendas semanais durante feriados por loja\n",
        "* Taxa de desemprego média ao longo do tempo\n",
        "\n"
      ],
      "metadata": {
        "id": "NJQu8RjQQG6f"
      }
    },
    {
      "cell_type": "code",
      "source": [
        "soma_vendas = df_wm.groupby('Loja', as_index=False)[\"VendaSemanal\"].sum()\n",
        "soma_vendas['BateuMeta'] = soma_vendas['VendaSemanal'].apply(lambda x: \"Acima da Meta\" if x > 250000000 else \"Abaixo da Meta\")\n",
        "\n",
        "desemprego_loja = df_wm.groupby('Loja', as_index=False)[\"Desemprego\"].mean()\n",
        "df_loja = soma_vendas.merge(desemprego_loja, how = 'left', on = 'Loja')\n",
        "\n",
        "df_feriados = df_wm[df_wm['Feriado'] == 1].groupby('Loja', as_index=False)['VendaSemanal'].mean()\n",
        "df_feriados['BateuMeta'] = df_feriados['VendaSemanal'].apply(lambda x: \"Acima da Meta\" if x > 2000000 else \"Abaixo da Meta\")\n",
        "\n",
        "media_desemprego = df_wm.groupby('Data', as_index=False)[\"Desemprego\"].mean()"
      ],
      "metadata": {
        "id": "WvLjG40lKeOE"
      },
      "execution_count": 33,
      "outputs": []
    },
    {
      "cell_type": "code",
      "source": [
        "palette = sns.color_palette(\"pastel\", 6)"
      ],
      "metadata": {
        "id": "9ly3HIi8Iz4o"
      },
      "execution_count": 34,
      "outputs": []
    },
    {
      "cell_type": "code",
      "source": [
        "fig = plt.figure(figsize=(20,6))\n",
        "\n",
        "ax1 = sns.barplot(x=\"Loja\", \n",
        "            y=\"VendaSemanal\",\n",
        "            data = df_loja,\n",
        "            hue=\"BateuMeta\",\n",
        "            palette = palette,\n",
        "            dodge=False\n",
        "            )\n",
        "\n",
        "plt.axhline(250000000, color =  'black', linestyle = '--', label = 'Meta')\n",
        "plt.ylabel('Valor total de Vendas (100 milhões)')\n",
        "\n",
        "ax2 = ax1.twinx()\n",
        "df_loja['Loja'] = df_loja['Loja'].apply(lambda x: x-1)\n",
        "sns.lineplot(x='Loja', y='Desemprego', data=df_loja, ax=ax2, color = 'grey', label = 'Média de Desemprego', legend = False)\n",
        "plt.ylabel('Média da Taxa de Desemprego (%)')\n",
        "\n",
        "lines_1, labels_1 = ax1.get_legend_handles_labels()\n",
        "lines_2, labels_2 = ax2.get_legend_handles_labels()\n",
        "lines = lines_1 + lines_2\n",
        "labels = labels_1 + labels_2\n",
        "ax1.legend(lines, labels)\n",
        "\n",
        "plt.title('Total acumulado de vendas vs Taxa média de desemprego por Loja')\n",
        "\n",
        "plt.show()"
      ],
      "metadata": {
        "colab": {
          "base_uri": "https://localhost:8080/",
          "height": 404
        },
        "id": "xaU1B2VRLPRy",
        "outputId": "78bb6990-af68-4394-c1a1-6a0888f7a573"
      },
      "execution_count": 35,
      "outputs": [
        {
          "output_type": "display_data",
          "data": {
            "image/png": "[encoded data removed]",
            "text/plain": [
              "<Figure size 1440x432 with 2 Axes>"
            ]
          },
          "metadata": {
            "needs_background": "light"
          }
        }
      ]
    },
    {
      "cell_type": "code",
      "source": [
        "fig = plt.figure(figsize=(20,6))\n",
        "\n",
        "ax1 = sns.barplot(x=\"Loja\", \n",
        "            y=\"VendaSemanal\",\n",
        "            data = df_feriados,\n",
        "            hue = \"BateuMeta\",\n",
        "            palette = palette,\n",
        "            dodge=False\n",
        "            )\n",
        "\n",
        "plt.axhline(2000000, color =  'black', linestyle = '--', label = 'Meta')\n",
        "\n",
        "plt.ylabel('Média de Vendas (em milhões)')\n",
        "plt.title('Média de vendas por Loja nos feriados')\n",
        "ax1.legend()\n",
        "\n",
        "plt.show()"
      ],
      "metadata": {
        "colab": {
          "base_uri": "https://localhost:8080/",
          "height": 404
        },
        "id": "pCPnldL2YVdJ",
        "outputId": "4e1b0273-2a0e-478c-9899-c2dc0046615f"
      },
      "execution_count": 36,
      "outputs": [
        {
          "output_type": "display_data",
          "data": {
            "image/png": "[encoded data removed]",
            "text/plain": [
              "<Figure size 1440x432 with 1 Axes>"
            ]
          },
          "metadata": {
            "needs_background": "light"
          }
        }
      ]
    },
    {
      "cell_type": "code",
      "source": [
        "plt.figure(figsize=(20,6))\n",
        "\n",
        "ax = sns.lineplot(x = 'Data', \n",
        "                  y = 'Desemprego', \n",
        "                  data = media_desemprego)\n",
        "\n",
        "plt.title('Variação da taxa média de desemprego ao longo do tempo')\n",
        "plt.ylabel('Média da Taxa de Desemprego (%)')\n",
        "\n",
        "ax.set(ylim=(0, 10))\n",
        "plt.show()"
      ],
      "metadata": {
        "colab": {
          "base_uri": "https://localhost:8080/",
          "height": 404
        },
        "id": "BLeIbq-uLQq1",
        "outputId": "f59510ce-ba3b-464a-9580-171968151d2a"
      },
      "execution_count": 45,
      "outputs": [
        {
          "output_type": "display_data",
          "data": {
            "image/png": "[encoded data removed]",
            "text/plain": [
              "<Figure size 1440x432 with 1 Axes>"
            ]
          },
          "metadata": {
            "needs_background": "light"
          }
        }
      ]
    },
    {
      "cell_type": "code",
      "source": [
        "plt.figure(figsize=(20,6))\n",
        "df_plot = df_wm.copy()\n",
        "df_plot['Data'] = df_plot['Data'].apply(lambda date: date.toordinal())\n",
        "\n",
        "ax = sns.regplot(x = 'Data', \n",
        "                 y = 'PrecoComb', \n",
        "                 data = df_plot, \n",
        "                 lowess = True, \n",
        "                 line_kws={\"color\": \"black\",'label': 'Linha de regressão'})\n",
        "\n",
        "new_labels = [date.fromordinal(int(item)) for item in ax.get_xticks()]\n",
        "ax.set_xticklabels(new_labels)\n",
        "\n",
        "plt.title('Variação do preço do combustível ao longo do tempo')\n",
        "plt.ylabel('Preço do Combustível (USD)')\n",
        "\n",
        "ax.legend(loc = 'upper left')\n",
        "\n",
        "plt.show()"
      ],
      "metadata": {
        "colab": {
          "base_uri": "https://localhost:8080/",
          "height": 404
        },
        "id": "cq4HWzkvLXMC",
        "outputId": "8055960e-a020-4abb-a0ea-75c272090557"
      },
      "execution_count": 44,
      "outputs": [
        {
          "output_type": "display_data",
          "data": {
            "image/png": "[encoded data removed]",
            "text/plain": [
              "<Figure size 1440x432 with 1 Axes>"
            ]
          },
          "metadata": {
            "needs_background": "light"
          }
        }
      ]
    },
    {
      "cell_type": "code",
      "source": [
        "f = plt.figure(figsize=(11, 9))\n",
        "\n",
        "cmap = sns.diverging_palette(230, 20, as_cmap=True)\n",
        "\n",
        "corr = sns.heatmap(data=df_wm.corr(), cmap=cmap, vmin = -1, annot=True)\n",
        "\n",
        "plt.show()"
      ],
      "metadata": {
        "colab": {
          "base_uri": "https://localhost:8080/",
          "height": 541
        },
        "id": "wOr5baM5Lf4c",
        "outputId": "ac37cd16-05c3-4cf8-fdd6-f8a6535fb393"
      },
      "execution_count": 43,
      "outputs": [
        {
          "output_type": "display_data",
          "data": {
            "image/png": "[encoded data removed]",
            "text/plain": [
              "<Figure size 792x648 with 2 Axes>"
            ]
          },
          "metadata": {
            "needs_background": "light"
          }
        }
      ]
    },
    {
      "cell_type": "markdown",
      "source": [
        "A partir das observações visuais, podemos concluir:\n",
        "\n",
        "\n",
        "* A **taxa média de desemprego** é relativamente baixa nas lojas com maiores vendas acumuladas, já as maiores taxas foram observadas nas lojas que venderam menos.\n",
        "* As **lojas com mais vendas acumuladas**, também são as mesmas com as maiores **médias de vendas durante os feriados**.\n",
        "* A **taxa de desemprego sofreu queda** constante de 2010 até 2019.\n",
        "* O **preço de combustível sofreu muitas variações** ao longo do tempo e terminou em alta ao final de 2012.\n",
        "* Em relação às **correlações com as Vendas Semanais**, todas são **muito fracas**, sendo a **mais negativa de -0,11 com a Taxa de Desemprego** e **mais positiva de 0,037 com Feriado**.\n",
        "\n"
      ],
      "metadata": {
        "id": "z-dPMsyHVvmK"
      }
    },
    {
      "cell_type": "markdown",
      "source": [
        "### Insights"
      ],
      "metadata": {
        "id": "4RIZPqAoWOGk"
      }
    },
    {
      "cell_type": "code",
      "source": [
        "df_lojas_sum = df_wm.groupby('Loja', as_index=False)[[\"VendaSemanal\"]].sum().sort_values(['VendaSemanal'], ascending=False)\n",
        "df_lojas_med = df_wm.groupby('Loja', as_index=False)[[\"VendaSemanal\", \"Desemprego\", \"PrecoComb\"]].mean().sort_values(['VendaSemanal'], ascending=False)\n",
        "df_lojas_max = df_wm.groupby('Loja', as_index=False)[[\"VendaSemanal\", \"Desemprego\", \"PrecoComb\"]].max().sort_values(['VendaSemanal'], ascending=False)\n",
        "df_lojas_min = df_wm.groupby('Loja', as_index=False)[[\"VendaSemanal\", \"Desemprego\", \"PrecoComb\"]].min().sort_values(['VendaSemanal'], ascending=False)"
      ],
      "metadata": {
        "id": "eE6ekVbZT9ZR"
      },
      "execution_count": 50,
      "outputs": []
    },
    {
      "cell_type": "code",
      "source": [
        "pd.set_option('float_format', '{:.2f}'.format)\n",
        "df_lojas_med.head(10)"
      ],
      "metadata": {
        "id": "nZsTlidFVrY0",
        "colab": {
          "base_uri": "https://localhost:8080/",
          "height": 363
        },
        "outputId": "db7d9608-2aa4-4e0d-fe65-6e5097393f21"
      },
      "execution_count": 76,
      "outputs": [
        {
          "output_type": "execute_result",
          "data": {
            "text/html": [
              "\n",
              "  <div id=\"df-b40dfdf8-870d-4f08-89d8-45898c35efe2\">\n",
              "    <div class=\"colab-df-container\">\n",
              "      <div>\n",
              "<style scoped>\n",
              "    .dataframe tbody tr th:only-of-type {\n",
              "        vertical-align: middle;\n",
              "    }\n",
              "\n",
              "    .dataframe tbody tr th {\n",
              "        vertical-align: top;\n",
              "    }\n",
              "\n",
              "    .dataframe thead th {\n",
              "        text-align: right;\n",
              "    }\n",
              "</style>\n",
              "<table border=\"1\" class=\"dataframe\">\n",
              "  <thead>\n",
              "    <tr style=\"text-align: right;\">\n",
              "      <th></th>\n",
              "      <th>Loja</th>\n",
              "      <th>VendaSemanal</th>\n",
              "      <th>Desemprego</th>\n",
              "      <th>PrecoComb</th>\n",
              "    </tr>\n",
              "  </thead>\n",
              "  <tbody>\n",
              "    <tr>\n",
              "      <th>19</th>\n",
              "      <td>20</td>\n",
              "      <td>2107676.87</td>\n",
              "      <td>7.37</td>\n",
              "      <td>3.42</td>\n",
              "    </tr>\n",
              "    <tr>\n",
              "      <th>3</th>\n",
              "      <td>4</td>\n",
              "      <td>2094712.96</td>\n",
              "      <td>5.96</td>\n",
              "      <td>3.22</td>\n",
              "    </tr>\n",
              "    <tr>\n",
              "      <th>13</th>\n",
              "      <td>14</td>\n",
              "      <td>2020978.40</td>\n",
              "      <td>8.65</td>\n",
              "      <td>3.42</td>\n",
              "    </tr>\n",
              "    <tr>\n",
              "      <th>12</th>\n",
              "      <td>13</td>\n",
              "      <td>2003620.31</td>\n",
              "      <td>7.00</td>\n",
              "      <td>3.29</td>\n",
              "    </tr>\n",
              "    <tr>\n",
              "      <th>1</th>\n",
              "      <td>2</td>\n",
              "      <td>1925751.34</td>\n",
              "      <td>7.62</td>\n",
              "      <td>3.22</td>\n",
              "    </tr>\n",
              "    <tr>\n",
              "      <th>9</th>\n",
              "      <td>10</td>\n",
              "      <td>1899424.57</td>\n",
              "      <td>8.36</td>\n",
              "      <td>3.58</td>\n",
              "    </tr>\n",
              "    <tr>\n",
              "      <th>26</th>\n",
              "      <td>27</td>\n",
              "      <td>1775216.20</td>\n",
              "      <td>8.00</td>\n",
              "      <td>3.58</td>\n",
              "    </tr>\n",
              "    <tr>\n",
              "      <th>5</th>\n",
              "      <td>6</td>\n",
              "      <td>1564728.19</td>\n",
              "      <td>6.61</td>\n",
              "      <td>3.22</td>\n",
              "    </tr>\n",
              "    <tr>\n",
              "      <th>0</th>\n",
              "      <td>1</td>\n",
              "      <td>1555264.40</td>\n",
              "      <td>7.61</td>\n",
              "      <td>3.22</td>\n",
              "    </tr>\n",
              "    <tr>\n",
              "      <th>38</th>\n",
              "      <td>39</td>\n",
              "      <td>1450668.13</td>\n",
              "      <td>7.87</td>\n",
              "      <td>3.22</td>\n",
              "    </tr>\n",
              "  </tbody>\n",
              "</table>\n",
              "</div>\n",
              "      <button class=\"colab-df-convert\" onclick=\"convertToInteractive('df-b40dfdf8-870d-4f08-89d8-45898c35efe2')\"\n",
              "              title=\"Convert this dataframe to an interactive table.\"\n",
              "              style=\"display:none;\">\n",
              "        \n",
              "  <svg xmlns=\"http://www.w3.org/2000/svg\" height=\"24px\"viewBox=\"0 0 24 24\"\n",
              "       width=\"24px\">\n",
              "    <path d=\"M0 0h24v24H0V0z\" fill=\"none\"/>\n",
              "    <path d=\"M18.56 5.44l.94 2.06.94-2.06 2.06-.94-2.06-.94-.94-2.06-.94 2.06-2.06.94zm-11 1L8.5 8.5l.94-2.06 2.06-.94-2.06-.94L8.5 2.5l-.94 2.06-2.06.94zm10 10l.94 2.06.94-2.06 2.06-.94-2.06-.94-.94-2.06-.94 2.06-2.06.94z\"/><path d=\"M17.41 7.96l-1.37-1.37c-.4-.4-.92-.59-1.43-.59-.52 0-1.04.2-1.43.59L10.3 9.45l-7.72 7.72c-.78.78-.78 2.05 0 2.83L4 21.41c.39.39.9.59 1.41.59.51 0 1.02-.2 1.41-.59l7.78-7.78 2.81-2.81c.8-.78.8-2.07 0-2.86zM5.41 20L4 18.59l7.72-7.72 1.47 1.35L5.41 20z\"/>\n",
              "  </svg>\n",
              "      </button>\n",
              "      \n",
              "  <style>\n",
              "    .colab-df-container {\n",
              "      display:flex;\n",
              "      flex-wrap:wrap;\n",
              "      gap: 12px;\n",
              "    }\n",
              "\n",
              "    .colab-df-convert {\n",
              "      background-color: #E8F0FE;\n",
              "      border: none;\n",
              "      border-radius: 50%;\n",
              "      cursor: pointer;\n",
              "      display: none;\n",
              "      fill: #1967D2;\n",
              "      height: 32px;\n",
              "      padding: 0 0 0 0;\n",
              "      width: 32px;\n",
              "    }\n",
              "\n",
              "    .colab-df-convert:hover {\n",
              "      background-color: #E2EBFA;\n",
              "      box-shadow: 0px 1px 2px rgba(60, 64, 67, 0.3), 0px 1px 3px 1px rgba(60, 64, 67, 0.15);\n",
              "      fill: #174EA6;\n",
              "    }\n",
              "\n",
              "    [theme=dark] .colab-df-convert {\n",
              "      background-color: #3B4455;\n",
              "      fill: #D2E3FC;\n",
              "    }\n",
              "\n",
              "    [theme=dark] .colab-df-convert:hover {\n",
              "      background-color: #434B5C;\n",
              "      box-shadow: 0px 1px 3px 1px rgba(0, 0, 0, 0.15);\n",
              "      filter: drop-shadow(0px 1px 2px rgba(0, 0, 0, 0.3));\n",
              "      fill: #FFFFFF;\n",
              "    }\n",
              "  </style>\n",
              "\n",
              "      <script>\n",
              "        const buttonEl =\n",
              "          document.querySelector('#df-b40dfdf8-870d-4f08-89d8-45898c35efe2 button.colab-df-convert');\n",
              "        buttonEl.style.display =\n",
              "          google.colab.kernel.accessAllowed ? 'block' : 'none';\n",
              "\n",
              "        async function convertToInteractive(key) {\n",
              "          const element = document.querySelector('#df-b40dfdf8-870d-4f08-89d8-45898c35efe2');\n",
              "          const dataTable =\n",
              "            await google.colab.kernel.invokeFunction('convertToInteractive',\n",
              "                                                     [key], {});\n",
              "          if (!dataTable) return;\n",
              "\n",
              "          const docLinkHtml = 'Like what you see? Visit the ' +\n",
              "            '<a target=\"_blank\" href=https://colab.research.google.com/notebooks/data_table.ipynb>data table notebook</a>'\n",
              "            + ' to learn more about interactive tables.';\n",
              "          element.innerHTML = '';\n",
              "          dataTable['output_type'] = 'display_data';\n",
              "          await google.colab.output.renderOutput(dataTable, element);\n",
              "          const docLink = document.createElement('div');\n",
              "          docLink.innerHTML = docLinkHtml;\n",
              "          element.appendChild(docLink);\n",
              "        }\n",
              "      </script>\n",
              "    </div>\n",
              "  </div>\n",
              "  "
            ],
            "text/plain": [
              "    Loja  VendaSemanal  Desemprego  PrecoComb\n",
              "19    20    2107676.87        7.37       3.42\n",
              "3      4    2094712.96        5.96       3.22\n",
              "13    14    2020978.40        8.65       3.42\n",
              "12    13    2003620.31        7.00       3.29\n",
              "1      2    1925751.34        7.62       3.22\n",
              "9     10    1899424.57        8.36       3.58\n",
              "26    27    1775216.20        8.00       3.58\n",
              "5      6    1564728.19        6.61       3.22\n",
              "0      1    1555264.40        7.61       3.22\n",
              "38    39    1450668.13        7.87       3.22"
            ]
          },
          "metadata": {},
          "execution_count": 76
        }
      ]
    },
    {
      "cell_type": "markdown",
      "source": [
        "#### Média de venda semanal, taxa de desemprego e preço de combustível\n",
        "\n",
        "Dentre as cinco lojas com maior média de venda semanal:\n",
        "* A loja com maior média semanal é a nº 20 a USD 2,108 milhões.\n",
        "* A loja nº 4 tem a menor taxa de desemprego a 5,96%.\n",
        "* Em conjunto com a loja nº 4, a loja nº 2 também tem a menor média de preço de combustível a USD 3,22."
      ],
      "metadata": {
        "id": "LjSVvBz5WJy5"
      }
    },
    {
      "cell_type": "code",
      "source": [
        "sns.heatmap(data=df_lojas_med.corr(), cmap=cmap, vmin = -1, annot=True)"
      ],
      "metadata": {
        "colab": {
          "base_uri": "https://localhost:8080/",
          "height": 351
        },
        "id": "JUX5_DTPVqHB",
        "outputId": "95a2b48b-6df7-4e50-a782-e1482a187255"
      },
      "execution_count": 49,
      "outputs": [
        {
          "output_type": "execute_result",
          "data": {
            "text/plain": [
              "<matplotlib.axes._subplots.AxesSubplot at 0x7f92fde183d0>"
            ]
          },
          "metadata": {},
          "execution_count": 49
        },
        {
          "output_type": "display_data",
          "data": {
            "image/png": "[encoded data removed]",
            "text/plain": [
              "<Figure size 432x288 with 2 Axes>"
            ]
          },
          "metadata": {
            "needs_background": "light"
          }
        }
      ]
    },
    {
      "cell_type": "markdown",
      "source": [
        "Ao fazer a visualização de correlação das médias foi interessante perceber a forte correlação positiva entre a Taxa de Desemprego e Preço de Combustível em 0,48."
      ],
      "metadata": {
        "id": "iwo6ZuV_mZNc"
      }
    },
    {
      "cell_type": "markdown",
      "source": [
        "#### Lojas com maior venda acumulada"
      ],
      "metadata": {
        "id": "2lLiyCzbmzI7"
      }
    },
    {
      "cell_type": "code",
      "source": [
        "df_lojas_sum.head(10)"
      ],
      "metadata": {
        "colab": {
          "base_uri": "https://localhost:8080/",
          "height": 363
        },
        "id": "x5PklB4YlnOx",
        "outputId": "09ce15b4-0f77-44a6-ebc0-0e0547df68b7"
      },
      "execution_count": 80,
      "outputs": [
        {
          "output_type": "execute_result",
          "data": {
            "text/html": [
              "\n",
              "  <div id=\"df-203794e9-e521-4259-b370-95df90d0dfdc\">\n",
              "    <div class=\"colab-df-container\">\n",
              "      <div>\n",
              "<style scoped>\n",
              "    .dataframe tbody tr th:only-of-type {\n",
              "        vertical-align: middle;\n",
              "    }\n",
              "\n",
              "    .dataframe tbody tr th {\n",
              "        vertical-align: top;\n",
              "    }\n",
              "\n",
              "    .dataframe thead th {\n",
              "        text-align: right;\n",
              "    }\n",
              "</style>\n",
              "<table border=\"1\" class=\"dataframe\">\n",
              "  <thead>\n",
              "    <tr style=\"text-align: right;\">\n",
              "      <th></th>\n",
              "      <th>Loja</th>\n",
              "      <th>VendaSemanal</th>\n",
              "    </tr>\n",
              "  </thead>\n",
              "  <tbody>\n",
              "    <tr>\n",
              "      <th>19</th>\n",
              "      <td>20</td>\n",
              "      <td>301397792.46</td>\n",
              "    </tr>\n",
              "    <tr>\n",
              "      <th>3</th>\n",
              "      <td>4</td>\n",
              "      <td>299543953.38</td>\n",
              "    </tr>\n",
              "    <tr>\n",
              "      <th>13</th>\n",
              "      <td>14</td>\n",
              "      <td>288999911.34</td>\n",
              "    </tr>\n",
              "    <tr>\n",
              "      <th>12</th>\n",
              "      <td>13</td>\n",
              "      <td>286517703.80</td>\n",
              "    </tr>\n",
              "    <tr>\n",
              "      <th>1</th>\n",
              "      <td>2</td>\n",
              "      <td>275382440.98</td>\n",
              "    </tr>\n",
              "    <tr>\n",
              "      <th>9</th>\n",
              "      <td>10</td>\n",
              "      <td>271617713.89</td>\n",
              "    </tr>\n",
              "    <tr>\n",
              "      <th>26</th>\n",
              "      <td>27</td>\n",
              "      <td>253855916.88</td>\n",
              "    </tr>\n",
              "    <tr>\n",
              "      <th>5</th>\n",
              "      <td>6</td>\n",
              "      <td>223756130.64</td>\n",
              "    </tr>\n",
              "    <tr>\n",
              "      <th>0</th>\n",
              "      <td>1</td>\n",
              "      <td>222402808.85</td>\n",
              "    </tr>\n",
              "    <tr>\n",
              "      <th>38</th>\n",
              "      <td>39</td>\n",
              "      <td>207445542.47</td>\n",
              "    </tr>\n",
              "  </tbody>\n",
              "</table>\n",
              "</div>\n",
              "      <button class=\"colab-df-convert\" onclick=\"convertToInteractive('df-203794e9-e521-4259-b370-95df90d0dfdc')\"\n",
              "              title=\"Convert this dataframe to an interactive table.\"\n",
              "              style=\"display:none;\">\n",
              "        \n",
              "  <svg xmlns=\"http://www.w3.org/2000/svg\" height=\"24px\"viewBox=\"0 0 24 24\"\n",
              "       width=\"24px\">\n",
              "    <path d=\"M0 0h24v24H0V0z\" fill=\"none\"/>\n",
              "    <path d=\"M18.56 5.44l.94 2.06.94-2.06 2.06-.94-2.06-.94-.94-2.06-.94 2.06-2.06.94zm-11 1L8.5 8.5l.94-2.06 2.06-.94-2.06-.94L8.5 2.5l-.94 2.06-2.06.94zm10 10l.94 2.06.94-2.06 2.06-.94-2.06-.94-.94-2.06-.94 2.06-2.06.94z\"/><path d=\"M17.41 7.96l-1.37-1.37c-.4-.4-.92-.59-1.43-.59-.52 0-1.04.2-1.43.59L10.3 9.45l-7.72 7.72c-.78.78-.78 2.05 0 2.83L4 21.41c.39.39.9.59 1.41.59.51 0 1.02-.2 1.41-.59l7.78-7.78 2.81-2.81c.8-.78.8-2.07 0-2.86zM5.41 20L4 18.59l7.72-7.72 1.47 1.35L5.41 20z\"/>\n",
              "  </svg>\n",
              "      </button>\n",
              "      \n",
              "  <style>\n",
              "    .colab-df-container {\n",
              "      display:flex;\n",
              "      flex-wrap:wrap;\n",
              "      gap: 12px;\n",
              "    }\n",
              "\n",
              "    .colab-df-convert {\n",
              "      background-color: #E8F0FE;\n",
              "      border: none;\n",
              "      border-radius: 50%;\n",
              "      cursor: pointer;\n",
              "      display: none;\n",
              "      fill: #1967D2;\n",
              "      height: 32px;\n",
              "      padding: 0 0 0 0;\n",
              "      width: 32px;\n",
              "    }\n",
              "\n",
              "    .colab-df-convert:hover {\n",
              "      background-color: #E2EBFA;\n",
              "      box-shadow: 0px 1px 2px rgba(60, 64, 67, 0.3), 0px 1px 3px 1px rgba(60, 64, 67, 0.15);\n",
              "      fill: #174EA6;\n",
              "    }\n",
              "\n",
              "    [theme=dark] .colab-df-convert {\n",
              "      background-color: #3B4455;\n",
              "      fill: #D2E3FC;\n",
              "    }\n",
              "\n",
              "    [theme=dark] .colab-df-convert:hover {\n",
              "      background-color: #434B5C;\n",
              "      box-shadow: 0px 1px 3px 1px rgba(0, 0, 0, 0.15);\n",
              "      filter: drop-shadow(0px 1px 2px rgba(0, 0, 0, 0.3));\n",
              "      fill: #FFFFFF;\n",
              "    }\n",
              "  </style>\n",
              "\n",
              "      <script>\n",
              "        const buttonEl =\n",
              "          document.querySelector('#df-203794e9-e521-4259-b370-95df90d0dfdc button.colab-df-convert');\n",
              "        buttonEl.style.display =\n",
              "          google.colab.kernel.accessAllowed ? 'block' : 'none';\n",
              "\n",
              "        async function convertToInteractive(key) {\n",
              "          const element = document.querySelector('#df-203794e9-e521-4259-b370-95df90d0dfdc');\n",
              "          const dataTable =\n",
              "            await google.colab.kernel.invokeFunction('convertToInteractive',\n",
              "                                                     [key], {});\n",
              "          if (!dataTable) return;\n",
              "\n",
              "          const docLinkHtml = 'Like what you see? Visit the ' +\n",
              "            '<a target=\"_blank\" href=https://colab.research.google.com/notebooks/data_table.ipynb>data table notebook</a>'\n",
              "            + ' to learn more about interactive tables.';\n",
              "          element.innerHTML = '';\n",
              "          dataTable['output_type'] = 'display_data';\n",
              "          await google.colab.output.renderOutput(dataTable, element);\n",
              "          const docLink = document.createElement('div');\n",
              "          docLink.innerHTML = docLinkHtml;\n",
              "          element.appendChild(docLink);\n",
              "        }\n",
              "      </script>\n",
              "    </div>\n",
              "  </div>\n",
              "  "
            ],
            "text/plain": [
              "    Loja  VendaSemanal\n",
              "19    20  301397792.46\n",
              "3      4  299543953.38\n",
              "13    14  288999911.34\n",
              "12    13  286517703.80\n",
              "1      2  275382440.98\n",
              "9     10  271617713.89\n",
              "26    27  253855916.88\n",
              "5      6  223756130.64\n",
              "0      1  222402808.85\n",
              "38    39  207445542.47"
            ]
          },
          "metadata": {},
          "execution_count": 80
        }
      ]
    },
    {
      "cell_type": "markdown",
      "source": [
        "A ordem das lojas com maior venda acumulada se manteve igual à de média de Vendas Semanais, sendo interessante notar a diferença de apenas USD 1,9 milhões entre a loja nº 20 para nº 4.\n",
        "\n",
        "Já a diferença entre a loja nº 4 e nº 14 é superior a USD 10,5 milhões. "
      ],
      "metadata": {
        "id": "2533Ohifm9Ej"
      }
    },
    {
      "cell_type": "markdown",
      "source": [
        "#### Quantas semanas do ano ultrapassaram a média do período?"
      ],
      "metadata": {
        "id": "Pm47s7DOn7eq"
      }
    },
    {
      "cell_type": "code",
      "source": [
        "df_20 = df_wm[df_wm['Loja'] == 20].copy()\n",
        "df_20[\"BateuMedia\"] = df_20['VendaSemanal'].apply(lambda x: 1 if x > df_lojas_med['VendaSemanal'][20-1] else 0)\n",
        "df_20_m = df_20.groupby(\"Loja\", as_index=False)[\"BateuMedia\"].sum()\n",
        "\n",
        "\n",
        "df_04 = df_wm[df_wm['Loja'] == 4].copy()\n",
        "df_04[\"BateuMedia\"] = df_04['VendaSemanal'].apply(lambda x: 1 if x > df_lojas_med['VendaSemanal'][4-1] else 0)\n",
        "df_04_m = df_04.groupby(\"Loja\", as_index=False)[\"BateuMedia\"].sum()\n",
        "\n",
        "df_14 = df_wm[df_wm['Loja'] == 14].copy()\n",
        "df_14[\"BateuMedia\"] = df_14['VendaSemanal'].apply(lambda x: 1 if x > df_lojas_med['VendaSemanal'][14-1] else 0)\n",
        "df_14_m = df_14.groupby(\"Loja\", as_index=False)[\"BateuMedia\"].sum()\n",
        "\n",
        "df_13 = df_wm[df_wm['Loja'] == 13].copy()\n",
        "df_13[\"BateuMedia\"] = df_13['VendaSemanal'].apply(lambda x: 1 if x > df_lojas_med['VendaSemanal'][13-1] else 0)\n",
        "df_13_m = df_13.groupby(\"Loja\", as_index=False)[\"BateuMedia\"].sum()\n",
        "\n",
        "df_02 = df_wm[df_wm['Loja'] == 2].copy()\n",
        "df_02[\"BateuMedia\"] = df_02['VendaSemanal'].apply(lambda x: 1 if x > df_lojas_med['VendaSemanal'][2-1] else 0)\n",
        "df_02_m = df_02.groupby(\"Loja\", as_index=False)[\"BateuMedia\"].sum()\n",
        "\n",
        "df_10 = df_wm[df_wm['Loja'] == 10].copy()\n",
        "df_10[\"BateuMedia\"] = df_10['VendaSemanal'].apply(lambda x: 1 if x > df_lojas_med['VendaSemanal'][10-1] else 0)\n",
        "df_10_m = df_10.groupby(\"Loja\", as_index=False)[\"BateuMedia\"].sum()\n",
        "\n",
        "df_27 = df_wm[df_wm['Loja'] == 27].copy()\n",
        "df_27[\"BateuMedia\"] = df_27['VendaSemanal'].apply(lambda x: 1 if x > df_lojas_med['VendaSemanal'][27-1] else 0)\n",
        "df_27_m = df_27.groupby(\"Loja\", as_index=False)[\"BateuMedia\"].sum()\n",
        "\n",
        "df_06 = df_wm[df_wm['Loja'] == 6].copy()\n",
        "df_06[\"BateuMedia\"] = df_06['VendaSemanal'].apply(lambda x: 1 if x > df_lojas_med['VendaSemanal'][6-1] else 0)\n",
        "df_06_m = df_06.groupby(\"Loja\", as_index=False)[\"BateuMedia\"].sum()\n",
        "\n",
        "df_01 = df_wm[df_wm['Loja'] == 1].copy()\n",
        "df_01[\"BateuMedia\"] = df_01['VendaSemanal'].apply(lambda x: 1 if x > df_lojas_med['VendaSemanal'][1-1] else 0)\n",
        "df_01_m = df_01.groupby(\"Loja\", as_index=False)[\"BateuMedia\"].sum()\n",
        "\n",
        "df_39 = df_wm[df_wm['Loja'] == 39].copy()\n",
        "df_39[\"BateuMedia\"] = df_39['VendaSemanal'].apply(lambda x: 1 if x > df_lojas_med['VendaSemanal'][39-1] else 0)\n",
        "df_39_m = df_39.groupby(\"Loja\", as_index=False)[\"BateuMedia\"].sum()"
      ],
      "metadata": {
        "id": "uzsk3-JSmYYf"
      },
      "execution_count": 77,
      "outputs": []
    },
    {
      "cell_type": "code",
      "source": [
        "bateu_media = df_20_m.append([df_04_m, df_14_m, df_13_m, df_02_m, df_10_m, df_27_m, df_06_m, df_01_m, df_39_m], ignore_index=True).sort_values(['BateuMedia'], ascending=False)\n",
        "\n",
        "bateu_media"
      ],
      "metadata": {
        "colab": {
          "base_uri": "https://localhost:8080/",
          "height": 363
        },
        "id": "8_C9ddNGsnrW",
        "outputId": "4d1741e6-6934-404a-b358-7a57450708ea"
      },
      "execution_count": 82,
      "outputs": [
        {
          "output_type": "execute_result",
          "data": {
            "text/html": [
              "\n",
              "  <div id=\"df-cc182d78-a4a2-4133-87ea-1d568fe0770e\">\n",
              "    <div class=\"colab-df-container\">\n",
              "      <div>\n",
              "<style scoped>\n",
              "    .dataframe tbody tr th:only-of-type {\n",
              "        vertical-align: middle;\n",
              "    }\n",
              "\n",
              "    .dataframe tbody tr th {\n",
              "        vertical-align: top;\n",
              "    }\n",
              "\n",
              "    .dataframe thead th {\n",
              "        text-align: right;\n",
              "    }\n",
              "</style>\n",
              "<table border=\"1\" class=\"dataframe\">\n",
              "  <thead>\n",
              "    <tr style=\"text-align: right;\">\n",
              "      <th></th>\n",
              "      <th>Loja</th>\n",
              "      <th>BateuMedia</th>\n",
              "    </tr>\n",
              "  </thead>\n",
              "  <tbody>\n",
              "    <tr>\n",
              "      <th>2</th>\n",
              "      <td>14</td>\n",
              "      <td>66</td>\n",
              "    </tr>\n",
              "    <tr>\n",
              "      <th>1</th>\n",
              "      <td>4</td>\n",
              "      <td>62</td>\n",
              "    </tr>\n",
              "    <tr>\n",
              "      <th>9</th>\n",
              "      <td>39</td>\n",
              "      <td>61</td>\n",
              "    </tr>\n",
              "    <tr>\n",
              "      <th>6</th>\n",
              "      <td>27</td>\n",
              "      <td>59</td>\n",
              "    </tr>\n",
              "    <tr>\n",
              "      <th>7</th>\n",
              "      <td>6</td>\n",
              "      <td>56</td>\n",
              "    </tr>\n",
              "    <tr>\n",
              "      <th>8</th>\n",
              "      <td>1</td>\n",
              "      <td>56</td>\n",
              "    </tr>\n",
              "    <tr>\n",
              "      <th>4</th>\n",
              "      <td>2</td>\n",
              "      <td>53</td>\n",
              "    </tr>\n",
              "    <tr>\n",
              "      <th>0</th>\n",
              "      <td>20</td>\n",
              "      <td>52</td>\n",
              "    </tr>\n",
              "    <tr>\n",
              "      <th>3</th>\n",
              "      <td>13</td>\n",
              "      <td>52</td>\n",
              "    </tr>\n",
              "    <tr>\n",
              "      <th>5</th>\n",
              "      <td>10</td>\n",
              "      <td>47</td>\n",
              "    </tr>\n",
              "  </tbody>\n",
              "</table>\n",
              "</div>\n",
              "      <button class=\"colab-df-convert\" onclick=\"convertToInteractive('df-cc182d78-a4a2-4133-87ea-1d568fe0770e')\"\n",
              "              title=\"Convert this dataframe to an interactive table.\"\n",
              "              style=\"display:none;\">\n",
              "        \n",
              "  <svg xmlns=\"http://www.w3.org/2000/svg\" height=\"24px\"viewBox=\"0 0 24 24\"\n",
              "       width=\"24px\">\n",
              "    <path d=\"M0 0h24v24H0V0z\" fill=\"none\"/>\n",
              "    <path d=\"M18.56 5.44l.94 2.06.94-2.06 2.06-.94-2.06-.94-.94-2.06-.94 2.06-2.06.94zm-11 1L8.5 8.5l.94-2.06 2.06-.94-2.06-.94L8.5 2.5l-.94 2.06-2.06.94zm10 10l.94 2.06.94-2.06 2.06-.94-2.06-.94-.94-2.06-.94 2.06-2.06.94z\"/><path d=\"M17.41 7.96l-1.37-1.37c-.4-.4-.92-.59-1.43-.59-.52 0-1.04.2-1.43.59L10.3 9.45l-7.72 7.72c-.78.78-.78 2.05 0 2.83L4 21.41c.39.39.9.59 1.41.59.51 0 1.02-.2 1.41-.59l7.78-7.78 2.81-2.81c.8-.78.8-2.07 0-2.86zM5.41 20L4 18.59l7.72-7.72 1.47 1.35L5.41 20z\"/>\n",
              "  </svg>\n",
              "      </button>\n",
              "      \n",
              "  <style>\n",
              "    .colab-df-container {\n",
              "      display:flex;\n",
              "      flex-wrap:wrap;\n",
              "      gap: 12px;\n",
              "    }\n",
              "\n",
              "    .colab-df-convert {\n",
              "      background-color: #E8F0FE;\n",
              "      border: none;\n",
              "      border-radius: 50%;\n",
              "      cursor: pointer;\n",
              "      display: none;\n",
              "      fill: #1967D2;\n",
              "      height: 32px;\n",
              "      padding: 0 0 0 0;\n",
              "      width: 32px;\n",
              "    }\n",
              "\n",
              "    .colab-df-convert:hover {\n",
              "      background-color: #E2EBFA;\n",
              "      box-shadow: 0px 1px 2px rgba(60, 64, 67, 0.3), 0px 1px 3px 1px rgba(60, 64, 67, 0.15);\n",
              "      fill: #174EA6;\n",
              "    }\n",
              "\n",
              "    [theme=dark] .colab-df-convert {\n",
              "      background-color: #3B4455;\n",
              "      fill: #D2E3FC;\n",
              "    }\n",
              "\n",
              "    [theme=dark] .colab-df-convert:hover {\n",
              "      background-color: #434B5C;\n",
              "      box-shadow: 0px 1px 3px 1px rgba(0, 0, 0, 0.15);\n",
              "      filter: drop-shadow(0px 1px 2px rgba(0, 0, 0, 0.3));\n",
              "      fill: #FFFFFF;\n",
              "    }\n",
              "  </style>\n",
              "\n",
              "      <script>\n",
              "        const buttonEl =\n",
              "          document.querySelector('#df-cc182d78-a4a2-4133-87ea-1d568fe0770e button.colab-df-convert');\n",
              "        buttonEl.style.display =\n",
              "          google.colab.kernel.accessAllowed ? 'block' : 'none';\n",
              "\n",
              "        async function convertToInteractive(key) {\n",
              "          const element = document.querySelector('#df-cc182d78-a4a2-4133-87ea-1d568fe0770e');\n",
              "          const dataTable =\n",
              "            await google.colab.kernel.invokeFunction('convertToInteractive',\n",
              "                                                     [key], {});\n",
              "          if (!dataTable) return;\n",
              "\n",
              "          const docLinkHtml = 'Like what you see? Visit the ' +\n",
              "            '<a target=\"_blank\" href=https://colab.research.google.com/notebooks/data_table.ipynb>data table notebook</a>'\n",
              "            + ' to learn more about interactive tables.';\n",
              "          element.innerHTML = '';\n",
              "          dataTable['output_type'] = 'display_data';\n",
              "          await google.colab.output.renderOutput(dataTable, element);\n",
              "          const docLink = document.createElement('div');\n",
              "          docLink.innerHTML = docLinkHtml;\n",
              "          element.appendChild(docLink);\n",
              "        }\n",
              "      </script>\n",
              "    </div>\n",
              "  </div>\n",
              "  "
            ],
            "text/plain": [
              "   Loja  BateuMedia\n",
              "2    14          66\n",
              "1     4          62\n",
              "9    39          61\n",
              "6    27          59\n",
              "7     6          56\n",
              "8     1          56\n",
              "4     2          53\n",
              "0    20          52\n",
              "3    13          52\n",
              "5    10          47"
            ]
          },
          "metadata": {},
          "execution_count": 82
        }
      ]
    },
    {
      "cell_type": "markdown",
      "source": [
        "As lojas que bateram média por mais semanas, dentre as 10 com maior venda acumudala, foram nº 14 e nº 4 com 66 e 62 respectivamente. \n",
        "\n",
        "A loja nº 20, que teve mais vendas acumuladas, superou a média de vendas em 52 semanas."
      ],
      "metadata": {
        "id": "i3NzZa8OucSD"
      }
    },
    {
      "cell_type": "markdown",
      "source": [
        "### Criação de Score"
      ],
      "metadata": {
        "id": "KkxLV6xbiNsH"
      }
    },
    {
      "cell_type": "code",
      "source": [
        ""
      ],
      "metadata": {
        "id": "uT_dWID9xNIT"
      },
      "execution_count": null,
      "outputs": []
    }
  ]
}